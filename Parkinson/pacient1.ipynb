{
 "cells": [
  {
   "cell_type": "code",
   "execution_count": 1,
   "metadata": {},
   "outputs": [],
   "source": [
    "import pandas as pd\n",
    "import numpy as np\n",
    "import datetime as dt\n",
    "import time\n",
    "import matplotlib.pyplot as plt\n",
    "from math import sqrt"
   ]
  },
  {
   "cell_type": "code",
   "execution_count": 2,
   "metadata": {},
   "outputs": [],
   "source": [
    "spatient = 'patient6'"
   ]
  },
  {
   "cell_type": "code",
   "execution_count": 3,
   "metadata": {},
   "outputs": [],
   "source": [
    "patient = pd.read_csv(spatient + '.csv')"
   ]
  },
  {
   "cell_type": "code",
   "execution_count": 4,
   "metadata": {},
   "outputs": [
    {
     "data": {
      "text/plain": [
       "id                     object\n",
       "timestamp_rounded      object\n",
       "LIS1_x                  int64\n",
       "LIS1_y                  int64\n",
       "LIS1_z                  int64\n",
       "LIS2_x                  int64\n",
       "LIS2_y                  int64\n",
       "LIS2_z                  int64\n",
       "LSM_x                 float64\n",
       "LSM_y                 float64\n",
       "LSM_z                 float64\n",
       "BMP                     int64\n",
       "butterworth_filter      int64\n",
       "timestamp              object\n",
       "label                 float64\n",
       "id_patient              int64\n",
       "id_label               object\n",
       "dtype: object"
      ]
     },
     "metadata": {},
     "output_type": "display_data"
    }
   ],
   "source": [
    "display(patient.dtypes)"
   ]
  },
  {
   "cell_type": "code",
   "execution_count": 5,
   "metadata": {},
   "outputs": [],
   "source": [
    "patient['id_500'] = (patient.index / 500).astype(int)\n",
    "patient['LIS1'] = (patient['LIS1_x']*patient['LIS1_x'] + patient['LIS1_y']*patient['LIS1_y'] + patient['LIS1_z']*patient['LIS1_z'])\n",
    "patient['LIS2'] = (patient['LIS2_x']*patient['LIS2_x'] + patient['LIS2_y']*patient['LIS2_y'] + patient['LIS2_z']*patient['LIS2_z'])\n",
    "patient['wpr'] = patient['LSM_y']*patient['LSM_y'] + patient['LSM_z']*patient['LSM_z']\n",
    "patient['wpry'] = patient['LSM_x']*patient['LSM_x']  + patient['LSM_y']*patient['LSM_y'] + patient['LSM_z']*patient['LSM_z']"
   ]
  },
  {
   "cell_type": "code",
   "execution_count": 6,
   "metadata": {},
   "outputs": [],
   "source": [
    "def agrupa(x):    \n",
    "    d = {}\n",
    "    \n",
    "    d['timestamp_rounded'] = x['timestamp_rounded'].iloc[0]\n",
    "    \n",
    "    d['LSM_x_std'] = x['LSM_x'].std()\n",
    "    d['LSM_x_mean'] = np.absolute(x['LSM_x'].mean())\n",
    "    d['LSM_y_std'] = x['LSM_y'].std()\n",
    "    d['LSM_y_mean'] = np.absolute(x['LSM_y'].mean())\n",
    "    d['LSM_z_std'] = x['LSM_z'].std()\n",
    "    d['LSM_z_mean'] = np.absolute(x['LSM_z'].mean())\n",
    "    d['LIS1_std'] = x['LIS1'].std()\n",
    "    d['LIS2_std'] = x['LIS2'].std()\n",
    "    d['LIS1'] = x['LIS1'].mean() / 1e6\n",
    "    d['LIS2'] = x['LIS2'].mean() / 1e6\n",
    "    d['wpr_mean'] = x['wpr'].mean()\n",
    "    d['wpr_std'] = x['wpr'].std()\n",
    "    d['wpry_mean'] = x['wpry'].mean()\n",
    "    d['wpry_std'] = x['wpry'].std()\n",
    "    d['BMP'] = x['BMP'].mean()\n",
    "    s = x['butterworth_filter'].sum()\n",
    "    sz = x['butterworth_filter'].size\n",
    "    d['bw0'] = (sz-s)/sz\n",
    "    d['bw1'] = s/sz\n",
    "    d['timestamp'] = x['timestamp'].iloc[0]\n",
    "    d['id_patient'] = x['id_patient'].iloc[0]\n",
    "    d['label'] = x['label'].iloc[0]\n",
    "    d['id_label'] = x['id_label'].iloc[0]\n",
    "    return pd.Series(d)"
   ]
  },
  {
   "cell_type": "code",
   "execution_count": 7,
   "metadata": {},
   "outputs": [],
   "source": [
    "df_agrupat = patient.groupby('id_500').apply(agrupa)"
   ]
  },
  {
   "cell_type": "code",
   "execution_count": 8,
   "metadata": {},
   "outputs": [],
   "source": [
    "def trem_giro():\n",
    "    df = df_agrupat['LSM_x_std'] > 1.7 * df_agrupat['LSM_x_mean']\n",
    "    df = df & (df_agrupat['LSM_y_std'] > 1.5 * df_agrupat['LSM_y_mean'])\n",
    "    df = df & (df_agrupat['LSM_z_std'] > 1.5 * df_agrupat['LSM_z_mean'])\n",
    "    return df"
   ]
  },
  {
   "cell_type": "code",
   "execution_count": 9,
   "metadata": {},
   "outputs": [],
   "source": [
    "df_agrupat['trem_giro'] = (trem_giro()).astype(int)\n",
    "df_agrupat = df_agrupat.drop(columns=['LSM_x_std', 'LSM_y_std', 'LSM_z_std', 'LSM_x_mean', 'LSM_y_mean', 'LSM_z_mean'])"
   ]
  },
  {
   "cell_type": "code",
   "execution_count": 10,
   "metadata": {},
   "outputs": [],
   "source": [
    "df_agrupat.to_csv(spatient + 'reduit.csv')"
   ]
  },
  {
   "cell_type": "code",
   "execution_count": null,
   "metadata": {},
   "outputs": [],
   "source": []
  }
 ],
 "metadata": {
  "kernelspec": {
   "display_name": "Python 3",
   "language": "python",
   "name": "python3"
  },
  "language_info": {
   "codemirror_mode": {
    "name": "ipython",
    "version": 3
   },
   "file_extension": ".py",
   "mimetype": "text/x-python",
   "name": "python",
   "nbconvert_exporter": "python",
   "pygments_lexer": "ipython3",
   "version": "3.7.1"
  }
 },
 "nbformat": 4,
 "nbformat_minor": 2
}
