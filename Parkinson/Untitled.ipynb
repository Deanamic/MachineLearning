{
 "cells": [
  {
   "cell_type": "code",
   "execution_count": 54,
   "metadata": {},
   "outputs": [],
   "source": [
    "import pandas as pd\n",
    "import numpy as np\n",
    "import datetime as dt\n",
    "import time\n",
    "import matplotlib.pyplot as plt"
   ]
  },
  {
   "cell_type": "code",
   "execution_count": 55,
   "metadata": {},
   "outputs": [],
   "source": [
    "Patient1Loc = './patient1.csv'\n",
    "Patient2Loc = './patient2.csv'\n",
    "Patient3Loc = './patient3.csv'\n",
    "Patient4Loc = './patient4.csv'\n",
    "Patient5Loc = './patient5.csv'\n",
    "Patient6Loc = './patient6.csv'"
   ]
  },
  {
   "cell_type": "code",
   "execution_count": 58,
   "metadata": {},
   "outputs": [],
   "source": [
    "Patient1 = pd.read_csv(Patient1Loc);\n",
    "Patient2 = pd.read_csv(Patient2Loc);\n",
    "Patient3 = pd.read_csv(Patient3Loc);\n",
    "Patient4 = pd.read_csv(Patient4Loc);\n",
    "Patient5 = pd.read_csv(Patient5Loc);\n",
    "Patient6 = pd.read_csv(Patient6Loc);\n"
   ]
  },
  {
   "cell_type": "code",
   "execution_count": 59,
   "metadata": {},
   "outputs": [],
   "source": [
    "Merged = pd.concat([Patient1, Patient2, Patient3, Patient4, Patient5, Patient6], sort = False)"
   ]
  },
  {
   "cell_type": "code",
   "execution_count": 61,
   "metadata": {},
   "outputs": [],
   "source": [
    "Merged['id_500'] = (Merged.index / 500).astype(int)\n",
    "Merged['LIS1'] = (Merged['LIS1_x']*Merged['LIS1_x'] + Merged['LIS1_y']*Merged['LIS1_y'] + Merged['LIS1_z']*Merged['LIS1_z']).astype(int)\n",
    "Merged['LIS2'] = (Merged['LIS2_x']*Merged['LIS2_x'] + Merged['LIS2_y']*Merged['LIS2_y'] + Merged['LIS2_z']*Merged['LIS2_z']).astype(int)"
   ]
  },
  {
   "cell_type": "code",
   "execution_count": null,
   "metadata": {},
   "outputs": [],
   "source": []
  }
 ],
 "metadata": {
  "kernelspec": {
   "display_name": "Python 3",
   "language": "python",
   "name": "python3"
  },
  "language_info": {
   "codemirror_mode": {
    "name": "ipython",
    "version": 3
   },
   "file_extension": ".py",
   "mimetype": "text/x-python",
   "name": "python",
   "nbconvert_exporter": "python",
   "pygments_lexer": "ipython3",
   "version": "3.7.1"
  }
 },
 "nbformat": 4,
 "nbformat_minor": 2
}
