{
 "cells": [
  {
   "cell_type": "code",
   "execution_count": 1,
   "metadata": {},
   "outputs": [
    {
     "name": "stdout",
     "output_type": "stream",
     "text": [
      "['data/names/Portuguese.txt', 'data/names/Greek.txt', 'data/names/Italian.txt', 'data/names/Polish.txt', 'data/names/German.txt', 'data/names/Czech.txt', 'data/names/Scottish.txt', 'data/names/Korean.txt', 'data/names/Russian.txt', 'data/names/French.txt', 'data/names/Japanese.txt', 'data/names/Spanish.txt', 'data/names/Vietnamese.txt', 'data/names/Irish.txt', 'data/names/Dutch.txt', 'data/names/Arabic.txt', 'data/names/Chinese.txt', 'data/names/English.txt']\n"
     ]
    }
   ],
   "source": [
    "from __future__ import unicode_literals, print_function, division\n",
    "from io import open\n",
    "import glob\n",
    "import os\n",
    "\n",
    "def findFiles(path): return glob.glob(path)\n",
    "\n",
    "print(findFiles('data/names/*.txt'))\n",
    "\n",
    "import unicodedata\n",
    "import string\n",
    "\n",
    "all_letters = string.ascii_letters + \" .,;'\"\n",
    "n_letters = len(all_letters)\n",
    "\n",
    "# Turn a Unicode string to plain ASCII, thanks to https://stackoverflow.com/a/518232/2809427\n",
    "def unicodeToAscii(s):\n",
    "    return ''.join(\n",
    "        c for c in unicodedata.normalize('NFD', s)\n",
    "        if unicodedata.category(c) != 'Mn'\n",
    "        and c in all_letters\n",
    "    )\n",
    "\n",
    "# Build the category_lines dictionary, a list of names per language\n",
    "category_lines = {}\n",
    "all_categories = []\n",
    "\n",
    "# Read a file and split into lines\n",
    "def readLines(filename):\n",
    "    lines = open(filename, encoding='utf-8').read().strip().split('\\n')\n",
    "    return [unicodeToAscii(line) for line in lines]\n",
    "\n",
    "for filename in findFiles('data/names/*.txt'):\n",
    "    category = os.path.splitext(os.path.basename(filename))[0]\n",
    "    all_categories.append(category)\n",
    "    lines = readLines(filename)\n",
    "    category_lines[category] = lines\n",
    "\n",
    "n_categories = len(all_categories)"
   ]
  },
  {
   "cell_type": "code",
   "execution_count": 2,
   "metadata": {},
   "outputs": [],
   "source": [
    "import torch\n",
    "\n",
    "def oneHotEncode(letter, nsize = n_letters):\n",
    "    v = torch.zeros(1, nsize)\n",
    "    v[0][all_letters.find(letter)] = 1\n",
    "    return v\n",
    "\n",
    "def wordToTensor(word, nsize = n_letters):\n",
    "    tensor = torch.zeros(len(word), 1, n_letters)\n",
    "    for it, c in enumerate(word):\n",
    "        tensor[it][0] = oneHotEncode(c)\n",
    "    return tensor"
   ]
  },
  {
   "cell_type": "code",
   "execution_count": 3,
   "metadata": {},
   "outputs": [],
   "source": [
    "import torch.nn as nn\n",
    "\n",
    "class LTSM(nn.Module):\n",
    "    def __init__(self, input_size, hidden_size, gate_size, output_size):\n",
    "        super(LTSM, self).__init__()\n",
    "        \n",
    "        self.hidden_size = hidden_size\n",
    "        self.gate_size = gate_size\n",
    "        \n",
    "        self.slinear1 = nn.Linear(input_size + hidden_size, gate_size)\n",
    "        self.sig1 = nn.Sigmoid()\n",
    "        \n",
    "        self.slinear2 = nn.Linear(input_size + hidden_size, gate_size)\n",
    "        self.sig2 = nn.Sigmoid()\n",
    "        \n",
    "        self.slinear3 = nn.Linear(input_size + hidden_size, gate_size)\n",
    "        self.sig3 = nn.Sigmoid()\n",
    "        \n",
    "        self.tlinear1 = nn.Linear(input_size + hidden_size, gate_size)\n",
    "        self.tanh1 = nn.Tanh()\n",
    "        \n",
    "        self.tanh2 = nn.Tanh()\n",
    "        \n",
    "        self.linearout = nn.Linear(gate_size, output_size)\n",
    "        self.Logsoftmax = nn.LogSoftmax(dim = 1)\n",
    "        \n",
    "    def forward(self, input):\n",
    "        combined = torch.cat((self.Hidden, input), dim = 1)\n",
    "        ft = self.slinear1(combined)\n",
    "        ft = self.sig1(ft)\n",
    "        \n",
    "        it = self.slinear2(combined)\n",
    "        it = self.sig2(it)\n",
    "        \n",
    "        ct = self.tlinear1(combined)\n",
    "        ct = self.tanh1(ct)\n",
    "        \n",
    "        ot = self.slinear3(combined)\n",
    "        ot = self.sig3(ot)\n",
    "        \n",
    "        self.Gate = ft.mul(self.Gate).add(it.mul(ct))\n",
    "\n",
    "        self.Hidden = self.tanh2(self.Gate).mul(ot)\n",
    "        \n",
    "        output = self.linearout(self.Hidden)\n",
    "        output = self.Logsoftmax(output)\n",
    "        return output\n",
    "        \n",
    "    def initRecurrentLayers(self):\n",
    "        self.Hidden = torch.zeros(1, self.hidden_size)\n",
    "        self.Gate = torch.zeros(1, self.gate_size)\n",
    "        \n",
    "lstm = LTSM(n_letters, 64, 64, n_categories)"
   ]
  },
  {
   "cell_type": "code",
   "execution_count": 4,
   "metadata": {},
   "outputs": [],
   "source": [
    "def argMax(output):\n",
    "    top_i = output[0].topk(2, sorted = True) \n",
    "    ##value/index ith elemtn\n",
    "    category_i = top_i[1][0].item()\n",
    "    return all_categories[category_i], category_i\n"
   ]
  },
  {
   "cell_type": "code",
   "execution_count": 5,
   "metadata": {},
   "outputs": [
    {
     "name": "stdout",
     "output_type": "stream",
     "text": [
      "category = Irish / line = Lennon\n",
      "category = Scottish / line = King\n",
      "category = Spanish / line = San nicolas\n",
      "category = Russian / line = Viselov\n",
      "category = Japanese / line = Yasui\n",
      "category = Russian / line = Holmansky\n",
      "category = Japanese / line = Shigeki\n",
      "category = English / line = Gray\n",
      "category = French / line = Leveque\n",
      "category = Irish / line = O'Dowd\n"
     ]
    }
   ],
   "source": [
    "import random\n",
    "\n",
    "def randomChoice(l):\n",
    "    return l[random.randint(0, len(l) - 1)]\n",
    "\n",
    "def randomTrainingExample():\n",
    "    category = randomChoice(all_categories)\n",
    "    line = randomChoice(category_lines[category])\n",
    "    category_tensor = torch.tensor([all_categories.index(category)], dtype=torch.long)\n",
    "    line_tensor = wordToTensor(line)\n",
    "    return category, line, category_tensor, line_tensor\n",
    "\n",
    "for i in range(10):\n",
    "    category, line, category_tensor, line_tensor = randomTrainingExample()\n",
    "    print('category =', category, '/ line =', line)"
   ]
  },
  {
   "cell_type": "code",
   "execution_count": 6,
   "metadata": {},
   "outputs": [],
   "source": [
    "import torch.optim as optim\n",
    "criterion = nn.NLLLoss()\n",
    "optimizer = optim.Adam(lstm.parameters(), lr = 0.001)"
   ]
  },
  {
   "cell_type": "code",
   "execution_count": 7,
   "metadata": {},
   "outputs": [],
   "source": [
    "def train(category_tensor, line_tensor):\n",
    "    lstm.initRecurrentLayers()\n",
    "\n",
    "    optimizer.zero_grad()\n",
    "    for i in range(line_tensor.size()[0]):\n",
    "        output= lstm(line_tensor[i])\n",
    "\n",
    "    loss = criterion(output, category_tensor)\n",
    "    loss.backward()\n",
    "    optimizer.step()\n",
    "\n",
    "    return output, loss.item()"
   ]
  },
  {
   "cell_type": "code",
   "execution_count": 8,
   "metadata": {},
   "outputs": [
    {
     "name": "stdout",
     "output_type": "stream",
     "text": [
      "5000 5% (0m 30s) 1.2164 Koury / Arabic ✓\n",
      "10000 10% (1m 0s) 0.6785 Okabe / Japanese ✓\n",
      "15000 15% (1m 31s) 1.3080 Nazari / Japanese ✗ (Arabic)\n",
      "20000 20% (2m 1s) 0.5338 Wahner / German ✓\n",
      "25000 25% (2m 31s) 0.9556 Rong / Korean ✗ (Chinese)\n",
      "30000 30% (3m 1s) 0.4035 Ngo / Vietnamese ✓\n",
      "35000 35% (3m 31s) 0.1908 Arvanitoyannis / Greek ✓\n",
      "40000 40% (4m 0s) 0.1633 Flanagan / Irish ✓\n",
      "45000 45% (4m 30s) 4.2043 Calligaris / Greek ✗ (Italian)\n",
      "50000 50% (4m 59s) 1.4985 Santana / Spanish ✗ (Portuguese)\n",
      "55000 55% (5m 28s) 2.4090 Ransom / Scottish ✗ (Czech)\n",
      "60000 60% (5m 58s) 0.0167 Janvier / French ✓\n",
      "65000 65% (6m 28s) 0.3839 Nevins / English ✓\n",
      "70000 70% (6m 58s) 0.1042 Melo / Portuguese ✓\n",
      "75000 75% (7m 27s) 0.0011 Schneijders / Dutch ✓\n",
      "80000 80% (7m 58s) 0.0853 Sierzant / Polish ✓\n",
      "85000 85% (8m 27s) 0.0817 Araullo / Portuguese ✓\n",
      "90000 90% (8m 58s) 0.0082 Mustafa / Arabic ✓\n",
      "95000 95% (9m 29s) 2.1689 De laurentis / French ✗ (Italian)\n",
      "100000 100% (10m 0s) 0.0046 Haanraats / Dutch ✓\n"
     ]
    }
   ],
   "source": [
    "import time\n",
    "import math\n",
    "\n",
    "n_iters = 100000\n",
    "print_every = 5000\n",
    "plot_every = 1000\n",
    "\n",
    "\n",
    "\n",
    "# Keep track of losses for plotting\n",
    "current_loss = 0\n",
    "all_losses = []\n",
    "\n",
    "def timeSince(since):\n",
    "    now = time.time()\n",
    "    s = now - since\n",
    "    m = math.floor(s / 60)\n",
    "    s -= m * 60\n",
    "    return '%dm %ds' % (m, s)\n",
    "\n",
    "start = time.time()\n",
    "\n",
    "for iter in range(1, n_iters + 1):\n",
    "    category, line, category_tensor, line_tensor = randomTrainingExample()\n",
    "    output, loss = train(category_tensor, line_tensor)\n",
    "    current_loss += loss\n",
    "\n",
    "    # Print iter number, loss, name and guess\n",
    "    if iter % print_every == 0:\n",
    "        guess, guess_i = argMax(output)\n",
    "        correct = '✓' if guess == category else '✗ (%s)' % category\n",
    "        print('%d %d%% (%s) %.4f %s / %s %s' % (iter, iter / n_iters * 100, timeSince(start), loss, line, guess, correct))\n",
    "\n",
    "    # Add current loss avg to list of losses\n",
    "    if iter % plot_every == 0:\n",
    "        all_losses.append(current_loss / plot_every)\n",
    "        current_loss = 0"
   ]
  },
  {
   "cell_type": "code",
   "execution_count": 9,
   "metadata": {},
   "outputs": [
    {
     "data": {
      "text/plain": [
       "[<matplotlib.lines.Line2D at 0x7f0f8b5e7630>]"
      ]
     },
     "execution_count": 9,
     "metadata": {},
     "output_type": "execute_result"
    },
    {
     "data": {
      "image/png": "[encoded data removed]",
      "text/plain": [
       "<Figure size 432x288 with 1 Axes>"
      ]
     },
     "metadata": {
      "needs_background": "light"
     },
     "output_type": "display_data"
    }
   ],
   "source": [
    "%matplotlib inline\n",
    "import matplotlib.pyplot as plt\n",
    "import matplotlib.ticker as ticker\n",
    "\n",
    "plt.figure()\n",
    "plt.plot(all_losses)"
   ]
  },
  {
   "cell_type": "code",
   "execution_count": 10,
   "metadata": {},
   "outputs": [
    {
     "data": {
      "image/png": "[encoded data removed]",
      "text/plain": [
       "<Figure size 432x288 with 2 Axes>"
      ]
     },
     "metadata": {
      "needs_background": "light"
     },
     "output_type": "display_data"
    }
   ],
   "source": [
    "# Keep track of correct guesses in a confusion matrix\n",
    "confusion = torch.zeros(n_categories, n_categories)\n",
    "n_confusion = 10000\n",
    "\n",
    "# Just return an output given a line\n",
    "def evaluate(line_tensor):\n",
    "    hidden = lstm.initRecurrentLayers()\n",
    "\n",
    "    for i in range(line_tensor.size()[0]):\n",
    "        output = lstm(line_tensor[i])\n",
    "\n",
    "    return output\n",
    "\n",
    "# Go through a bunch of examples and record which are correctly guessed\n",
    "for i in range(n_confusion):\n",
    "    category, line, category_tensor, line_tensor = randomTrainingExample()\n",
    "    output = evaluate(line_tensor)\n",
    "    guess, guess_i = argMax(output)\n",
    "    category_i = all_categories.index(category)\n",
    "    confusion[category_i][guess_i] += 1\n",
    "\n",
    "# Normalize by dividing every row by its sum\n",
    "for i in range(n_categories):\n",
    "    confusion[i] = confusion[i] / confusion[i].sum()\n",
    "\n",
    "# Set up plot\n",
    "fig = plt.figure()\n",
    "ax = fig.add_subplot(111)\n",
    "cax = ax.matshow(confusion.numpy())\n",
    "fig.colorbar(cax)\n",
    "\n",
    "# Set up axes\n",
    "ax.set_xticklabels([''] + all_categories, rotation=90)\n",
    "ax.set_yticklabels([''] + all_categories)\n",
    "\n",
    "# Force label at every tick\n",
    "ax.xaxis.set_major_locator(ticker.MultipleLocator(1))\n",
    "ax.yaxis.set_major_locator(ticker.MultipleLocator(1))\n",
    "\n",
    "# sphinx_gallery_thumbnail_number = 2\n",
    "plt.show()"
   ]
  },
  {
   "cell_type": "code",
   "execution_count": 11,
   "metadata": {},
   "outputs": [
    {
     "name": "stdout",
     "output_type": "stream",
     "text": [
      "\n",
      "> Dovesky\n",
      "(-0.05) Russian\n",
      "(-3.06) Czech\n",
      "(-6.60) English\n",
      "\n",
      "> Jackson\n",
      "(-0.02) Scottish\n",
      "(-4.04) English\n",
      "(-6.27) Czech\n",
      "\n",
      "> Satoshi\n",
      "(-0.00) Japanese\n",
      "(-6.46) Arabic\n",
      "(-8.86) Russian\n"
     ]
    }
   ],
   "source": [
    "def predict(input_line, n_predictions=3):\n",
    "    print('\\n> %s' % input_line)\n",
    "    with torch.no_grad():\n",
    "        output = evaluate(wordToTensor(input_line))\n",
    "\n",
    "        # Get top N categories\n",
    "        topv, topi = output.topk(n_predictions, 1, True)\n",
    "        predictions = []\n",
    "\n",
    "        for i in range(n_predictions):\n",
    "            value = topv[0][i].item()\n",
    "            category_index = topi[0][i].item()\n",
    "            print('(%.2f) %s' % (value, all_categories[category_index]))\n",
    "            predictions.append([value, all_categories[category_index]])\n",
    "\n",
    "predict('Dovesky')\n",
    "predict('Jackson')\n",
    "predict('Satoshi')"
   ]
  }
 ],
 "metadata": {
  "kernelspec": {
   "display_name": "Python 3",
   "language": "python",
   "name": "python3"
  },
  "language_info": {
   "codemirror_mode": {
    "name": "ipython",
    "version": 3
   },
   "file_extension": ".py",
   "mimetype": "text/x-python",
   "name": "python",
   "nbconvert_exporter": "python",
   "pygments_lexer": "ipython3",
   "version": "3.7.3"
  }
 },
 "nbformat": 4,
 "nbformat_minor": 2
}
